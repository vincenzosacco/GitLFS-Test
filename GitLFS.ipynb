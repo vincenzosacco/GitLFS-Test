{
 "cells": [
  {
   "cell_type": "markdown",
   "metadata": {},
   "source": [
    "# Caricare File di Grandi Dimensioni su GitHub con Git LFS\n",
    "\n",
    "Questo notebook ti guida attraverso il processo di utilizzo di Git Large File Storage (LFS) per caricare file di grandi dimensioni su un repository GitHub. La guida è basata su [GitHub Docs](https://docs.github.com/en/repositories/working-with-files/managing-large-files/about-git-large-file-storage)"
   ]
  },
  {
   "cell_type": "markdown",
   "metadata": {},
   "source": [
    "## Passo 1: Installare Git LFS\n",
    "\n",
    "Prima di tutto, assicurati che Git LFS sia installato sul tuo sistema. Puoi installarlo da [git-lfs.github.com](https://git-lfs.github.com/) o utilizzare un package manager.\n",
    "\n",
    "- Per Windows (usando Chocolatey): `choco install git-lfs`\n",
    "- Per macOS: `brew install git-lfs`\n",
    "- Per Linux: `sudo apt install git-lfs` (Ubuntu/Debian) o simili per la tua distribuzione.\n",
    "\n",
    "Dopo l'installazione, inizializza Git LFS:"
   ]
  },
  {
   "cell_type": "code",
   "execution_count": 1,
   "metadata": {},
   "outputs": [
    {
     "name": "stdout",
     "output_type": "stream",
     "text": [
      "Updated Git hooks.\n",
      "Git LFS initialized.\n"
     ]
    }
   ],
   "source": [
    "!git lfs install"
   ]
  },
  {
   "cell_type": "markdown",
   "metadata": {},
   "source": [
    "## Passo 2: Configurare Git LFS per Tracciare File di Grandi Dimensioni\n",
    "\n",
    "Indica a Git LFS di tracciare il tuo file di grandi dimensioni ('large-video.mp4'):"
   ]
  },
  {
   "cell_type": "code",
   "execution_count": 2,
   "metadata": {},
   "outputs": [
    {
     "name": "stdout",
     "output_type": "stream",
     "text": [
      "\"large-video.mp4\" already supported\n"
     ]
    }
   ],
   "source": [
    "!git lfs track \"large-video.mp4\""
   ]
  },
  {
   "cell_type": "markdown",
   "metadata": {},
   "source": [
    "Questo crea o modifica un file `.gitattributes` che specifica quali file Git LFS deve gestire. Vediamo cosa è stato aggiunto a .gitattributes:"
   ]
  },
  {
   "cell_type": "code",
   "execution_count": 3,
   "metadata": {},
   "outputs": [
    {
     "name": "stderr",
     "output_type": "stream",
     "text": [
      "'cat' is not recognized as an internal or external command,\n",
      "operable program or batch file.\n"
     ]
    }
   ],
   "source": [
    "!cat .gitattributes"
   ]
  },
  {
   "cell_type": "code",
   "execution_count": 4,
   "metadata": {},
   "outputs": [
    {
     "name": "stdout",
     "output_type": "stream",
     "text": [
      "large-video.mp4 filter=lfs diff=lfs merge=lfs -text\n"
     ]
    }
   ],
   "source": [
    "!type .gitattributes"
   ]
  },
  {
   "cell_type": "markdown",
   "metadata": {},
   "source": [
    "## Passo 3: Assicurarsi di Aggiungere .gitattributes a Git\n",
    "\n",
    "Il file .gitattributes deve essere incluso nel repository:"
   ]
  },
  {
   "cell_type": "code",
   "execution_count": 5,
   "metadata": {},
   "outputs": [
    {
     "name": "stdout",
     "output_type": "stream",
     "text": [
      "On branch main\n",
      "Your branch is up to date with 'origin/main'.\n",
      "\n",
      "Untracked files:\n",
      "  (use \"git add <file>...\" to include in what will be committed)\n",
      "\tGitLFS.ipynb\n",
      "\tGitLFS.md\n",
      "\n",
      "nothing added to commit but untracked files present (use \"git add\" to track)\n"
     ]
    }
   ],
   "source": [
    "!git add .gitattributes\n",
    "!git commit -m \"Configurare Git LFS per tracciare large-video.mp4\""
   ]
  },
  {
   "cell_type": "markdown",
   "metadata": {},
   "source": [
    "## Passo 4: Aggiungere il File di Grandi Dimensioni al Repository\n",
    "\n",
    "Ora aggiungi il tuo file video di grandi dimensioni al repository Git:"
   ]
  },
  {
   "cell_type": "code",
   "execution_count": 12,
   "metadata": {},
   "outputs": [],
   "source": [
    "!git add large-video.mp4"
   ]
  },
  {
   "cell_type": "markdown",
   "metadata": {},
   "source": [
    "## Passo 5: Committare il File di Grandi Dimensioni"
   ]
  },
  {
   "cell_type": "code",
   "execution_count": 8,
   "metadata": {},
   "outputs": [
    {
     "name": "stdout",
     "output_type": "stream",
     "text": [
      "On branch main\n",
      "Your branch is up to date with 'origin/main'.\n",
      "\n",
      "Untracked files:\n",
      "  (use \"git add <file>...\" to include in what will be committed)\n",
      "\tGitLFS.ipynb\n",
      "\tGitLFS.md\n",
      "\n",
      "nothing added to commit but untracked files present (use \"git add\" to track)\n"
     ]
    }
   ],
   "source": [
    "!git commit -m \"Aggiungere file video di grandi dimensioni usando Git LFS\""
   ]
  },
  {
   "cell_type": "markdown",
   "metadata": {},
   "source": [
    "## Passo 6: Effettuare il Push su GitHub\n",
    "\n",
    "Fai il push delle tue modifiche al repository GitHub. Git LFS gestirà automaticamente il caricamento del file di grandi dimensioni:"
   ]
  },
  {
   "cell_type": "code",
   "execution_count": 9,
   "metadata": {},
   "outputs": [
    {
     "name": "stderr",
     "output_type": "stream",
     "text": [
      "Everything up-to-date\n"
     ]
    }
   ],
   "source": [
    "!git push origin main"
   ]
  },
  {
   "cell_type": "markdown",
   "metadata": {},
   "source": [
    "Nota: Sostituisci `main` con il nome del tuo branch se è diverso."
   ]
  },
  {
   "cell_type": "markdown",
   "metadata": {},
   "source": [
    "## Passo 7: Verificare gli Oggetti Git LFS\n",
    "\n",
    "Per confermare che Git LFS stia tracciando correttamente il tuo file:"
   ]
  },
  {
   "cell_type": "code",
   "execution_count": 10,
   "metadata": {},
   "outputs": [
    {
     "name": "stdout",
     "output_type": "stream",
     "text": [
      "88ace0b84e * large-video.mp4\n"
     ]
    }
   ],
   "source": [
    "!git lfs ls-files"
   ]
  },
  {
   "cell_type": "markdown",
   "metadata": {},
   "source": [
    "## Risoluzione dei Problemi\n",
    "\n",
    "### Controllare lo Stato di Git LFS\n",
    "\n",
    "Se stai riscontrando problemi, puoi controllare lo stato di Git LFS:"
   ]
  },
  {
   "cell_type": "code",
   "execution_count": 11,
   "metadata": {},
   "outputs": [
    {
     "name": "stdout",
     "output_type": "stream",
     "text": [
      "On branch main\n",
      "Objects to be pushed to origin/main:\n",
      "\n",
      "\n",
      "Objects to be committed:\n",
      "\n",
      "\n",
      "Objects not staged for commit:\n",
      "\n",
      "\n"
     ]
    }
   ],
   "source": [
    "!git lfs status"
   ]
  },
  {
   "cell_type": "markdown",
   "metadata": {},
   "source": [
    "### Problemi Comuni\n",
    "\n",
    "1. **Quota di Archiviazione LFS di GitHub Superata**: GitHub ha limiti sull'archiviazione e sulla larghezza di banda LFS. Controlla le tue [impostazioni dell'account](https://github.com/settings/billing).\n",
    "\n",
    "2. **Git LFS Non Installato su Tutte le Macchine**: Assicurati che Git LFS sia installato su ogni macchina che clona il repository.\n",
    "\n",
    "3. **File Troppo Grande per GitHub**: GitHub ha un limite massimo di 2GB per file. Per file più grandi, considera di dividerli o di utilizzare soluzioni alternative."
   ]
  }
 ],
 "metadata": {
  "kernelspec": {
   "display_name": ".venv",
   "language": "python",
   "name": "python3"
  },
  "language_info": {
   "codemirror_mode": {
    "name": "ipython",
    "version": 3
   },
   "file_extension": ".py",
   "mimetype": "text/x-python",
   "name": "python",
   "nbconvert_exporter": "python",
   "pygments_lexer": "ipython3",
   "version": "3.12.6"
  }
 },
 "nbformat": 4,
 "nbformat_minor": 4
}
